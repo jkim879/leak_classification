{
 "cells": [
  {
   "cell_type": "code",
   "execution_count": 1,
   "metadata": {},
   "outputs": [],
   "source": [
    "#AI packges\n",
    "\n",
    "from PIL import Image\n",
    "from keras.models import load_model\n",
    "import os\n",
    "import numpy as np\n",
    "import pandas as pd\n",
    "import matplotlib.pyplot as plt\n",
    "import seaborn as sns\n",
    "from tqdm import tqdm\n",
    "from python_speech_features import mfcc\n",
    "from sklearn.preprocessing import LabelEncoder, OneHotEncoder\n",
    "from sklearn.model_selection import train_test_split\n",
    "from sklearn.metrics import confusion_matrix\n",
    "from keras.layers import Conv2D, MaxPool2D, Flatten, Dense, Dropout\n",
    "from keras.models import Sequential\n",
    "from tensorflow.keras import layers\n",
    "from tensorflow.keras.preprocessing.image import ImageDataGenerator\n",
    "from keras.preprocessing.image import ImageDataGenerator, array_to_img, img_to_array, load_img\n",
    "from random import shuffle\n",
    "import shutil\n",
    "from tensorflow.keras.optimizers import RMSprop\n",
    "import matplotlib.pyplot as plt\n",
    "import tensorflow as tf\n",
    "from tensorflow.keras.optimizers import RMSprop\n",
    "import librosa.display"
   ]
  },
  {
   "cell_type": "code",
   "execution_count": 2,
   "metadata": {},
   "outputs": [],
   "source": [
    "base_dir = 'C:/Users/user/Desktop/211016_cnn모델학습' #base directory\n",
    "train_dir = os.path.join(base_dir, 'train_1sec') #train data directory\n",
    "validation_dir = os.path.join(base_dir, 'validation_1sec') #test or validation data directory"
   ]
  },
  {
   "cell_type": "code",
   "execution_count": 3,
   "metadata": {},
   "outputs": [
    {
     "name": "stdout",
     "output_type": "stream",
     "text": [
      "C:/Users/user/Desktop/211016_cnn모델학습\\train_1sec\\leak\n",
      "C:/Users/user/Desktop/211016_cnn모델학습\\train_1sec\\noleak\n"
     ]
    }
   ],
   "source": [
    "# train용 누수/누수x 이미지 경로\n",
    "train_leak_dir = os.path.join(train_dir, 'leak')\n",
    "train_noleak_dir = os.path.join(train_dir, 'noleak')\n",
    "\n",
    "print(train_leak_dir)\n",
    "print(train_noleak_dir)"
   ]
  },
  {
   "cell_type": "code",
   "execution_count": 4,
   "metadata": {},
   "outputs": [
    {
     "name": "stdout",
     "output_type": "stream",
     "text": [
      "C:/Users/user/Desktop/211016_cnn모델학습\\validation_1sec\\leak\n",
      "C:/Users/user/Desktop/211016_cnn모델학습\\validation_1sec\\noleak\n"
     ]
    }
   ],
   "source": [
    "# test용 누수/누수x 이미지 경로\n",
    "validation_leak_dir = os.path.join(validation_dir, 'leak')\n",
    "validation_noleak_dir = os.path.join(validation_dir, 'noleak')\n",
    "\n",
    "print(validation_leak_dir)\n",
    "print(validation_noleak_dir)"
   ]
  },
  {
   "cell_type": "code",
   "execution_count": 5,
   "metadata": {},
   "outputs": [
    {
     "name": "stdout",
     "output_type": "stream",
     "text": [
      "Total training leak images : 26236\n",
      "Total training noleak images : 26236\n",
      "Total validation leak images : 11244\n",
      "Total validation noleak images : 11244\n"
     ]
    }
   ],
   "source": [
    "#파일 개수 확인\n",
    "print('Total training leak images :', len(os.listdir(train_leak_dir)))\n",
    "print('Total training noleak images :', len(os.listdir(train_noleak_dir)))\n",
    "\n",
    "print('Total validation leak images :', len(os.listdir(validation_leak_dir)))\n",
    "print('Total validation noleak images :', len(os.listdir(validation_noleak_dir)))"
   ]
  },
  {
   "cell_type": "code",
   "execution_count": 6,
   "metadata": {},
   "outputs": [
    {
     "name": "stdout",
     "output_type": "stream",
     "text": [
      "Found 52472 images belonging to 2 classes.\n",
      "Found 22488 images belonging to 2 classes.\n"
     ]
    }
   ],
   "source": [
    "#imagedatagenerator 함수를 사용하여 train과 test 데이터로 분류\n",
    "\n",
    "train_datagen = ImageDataGenerator(rescale = 1.0/255.) #0~255 RGB 값을 1/255 로 스케일해서 0~1범위로 좁힘 \n",
    "test_datagen  = ImageDataGenerator( rescale = 1.0/255. )\n",
    "train_generator = train_datagen.flow_from_directory(train_dir,\n",
    "                                                  batch_size=20,\n",
    "                                                  class_mode='categorical',\n",
    "                                                  target_size=(150, 150))\n",
    "                                                  \n",
    "validation_generator =  test_datagen.flow_from_directory(validation_dir,\n",
    "                                                       batch_size=20,\n",
    "                                                       class_mode  = 'categorical',\n",
    "                                                       target_size = (150, 150))"
   ]
  },
  {
   "cell_type": "code",
   "execution_count": 7,
   "metadata": {},
   "outputs": [
    {
     "name": "stdout",
     "output_type": "stream",
     "text": [
      "52472\n",
      "22488\n"
     ]
    }
   ],
   "source": [
    "#train, validation 데이터 개수 확인\n",
    "print(train_generator.samples)\n",
    "print(validation_generator.samples)"
   ]
  },
  {
   "cell_type": "code",
   "execution_count": 38,
   "metadata": {},
   "outputs": [],
   "source": [
    "#파일 무작위로 이동시키기, 랜덤으로 이동시켰을 때 AI 정확도에도 영향을 줄 수 있음\n",
    "# import random\n",
    "# source = 'C:/Users/user/Desktop/211016_cnn모델학습/train_1sec/noleak'\n",
    "# dest = 'C:/Users/user/Desktop/211016_cnn모델학습/validation_1sec/noleak'\n",
    "# onlyfiles = [f for f in os.listdir(source) if os.path.isfile(os.path.join(source, f))]\n",
    "# files = os.listdir(source)\n",
    "# no_of_files = 11244\n",
    "# dest_file = dest \n",
    "# for file_name in random.sample(files, no_of_files):\n",
    "#     shutil.move(os.path.join(source, file_name), dest_file)"
   ]
  },
  {
   "cell_type": "code",
   "execution_count": 51,
   "metadata": {},
   "outputs": [
    {
     "name": "stdout",
     "output_type": "stream",
     "text": [
      "[name: \"/device:CPU:0\"\n",
      "device_type: \"CPU\"\n",
      "memory_limit: 268435456\n",
      "locality {\n",
      "}\n",
      "incarnation: 11999915495710660172\n",
      "xla_global_id: -1\n",
      "]\n"
     ]
    }
   ],
   "source": [
    "from tensorflow.python.client import device_lib\n",
    "print(device_lib.list_local_devices())"
   ]
  },
  {
   "cell_type": "code",
   "execution_count": 8,
   "metadata": {},
   "outputs": [],
   "source": [
    "#cnn 모델\n",
    "\n",
    "model = Sequential()\n",
    "model.add(Conv2D(16, (3, 3), activation='relu', strides=(1, 1), \n",
    "    padding='same', input_shape=(150,150,3)))\n",
    "model.add(Conv2D(32, (3, 3), activation='relu', strides=(1, 1), \n",
    "    padding='same'))\n",
    "model.add(MaxPool2D((2, 2)))\n",
    "model.add(Dropout(0.5))\n",
    "model.add(Flatten())\n",
    "model.add(Dense(128, activation='relu'))\n",
    "model.add(Dropout(0.5))\n",
    "model.add(Dense(64, activation='relu'))\n",
    "model.add(Dropout(0.5))\n",
    "model.add(Dense(2, activation='sigmoid'))\n",
    "\n",
    "\n",
    "\n",
    "model.compile(#optimizer=RMSprop(lr=0.001)\n",
    "            optimizer = \"adam\",\n",
    "            loss='binary_crossentropy', \n",
    "            metrics = ['accuracy'])\n",
    "\n",
    "\n",
    "\n",
    "\n"
   ]
  },
  {
   "cell_type": "code",
   "execution_count": 9,
   "metadata": {},
   "outputs": [
    {
     "name": "stdout",
     "output_type": "stream",
     "text": [
      "Epoch 1/50\n",
      "1000/1000 [==============================] - 284s 284ms/step - loss: 0.5790 - accuracy: 0.7331 - val_loss: 0.4629 - val_accuracy: 0.8200\n",
      "Epoch 2/50\n",
      "1000/1000 [==============================] - 282s 282ms/step - loss: 0.4503 - accuracy: 0.8062 - val_loss: 0.4529 - val_accuracy: 0.8300\n",
      "Epoch 3/50\n",
      "1000/1000 [==============================] - 323s 323ms/step - loss: 0.3726 - accuracy: 0.8479 - val_loss: 0.4202 - val_accuracy: 0.8200\n",
      "Epoch 4/50\n",
      "1000/1000 [==============================] - 327s 327ms/step - loss: 0.2984 - accuracy: 0.8823 - val_loss: 0.2998 - val_accuracy: 0.9000\n",
      "Epoch 5/50\n",
      "1000/1000 [==============================] - 303s 303ms/step - loss: 0.2438 - accuracy: 0.9082 - val_loss: 0.1832 - val_accuracy: 0.9200\n",
      "Epoch 6/50\n",
      "1000/1000 [==============================] - 297s 297ms/step - loss: 0.2000 - accuracy: 0.9271 - val_loss: 0.1451 - val_accuracy: 0.9700\n",
      "Epoch 7/50\n",
      "1000/1000 [==============================] - 295s 294ms/step - loss: 0.1701 - accuracy: 0.9385 - val_loss: 0.1579 - val_accuracy: 0.9400\n",
      "Epoch 8/50\n",
      "1000/1000 [==============================] - 293s 293ms/step - loss: 0.1548 - accuracy: 0.9452 - val_loss: 0.2359 - val_accuracy: 0.8800\n",
      "Epoch 9/50\n",
      "1000/1000 [==============================] - 289s 289ms/step - loss: 0.1380 - accuracy: 0.9508 - val_loss: 0.1617 - val_accuracy: 0.9400\n",
      "Epoch 10/50\n",
      "1000/1000 [==============================] - 291s 291ms/step - loss: 0.1235 - accuracy: 0.9570 - val_loss: 0.1315 - val_accuracy: 0.9500\n",
      "Epoch 11/50\n",
      "1000/1000 [==============================] - 293s 293ms/step - loss: 0.1160 - accuracy: 0.9603 - val_loss: 0.0562 - val_accuracy: 0.9700\n",
      "Epoch 12/50\n",
      "1000/1000 [==============================] - 293s 293ms/step - loss: 0.1009 - accuracy: 0.9646 - val_loss: 0.1299 - val_accuracy: 0.9700\n",
      "Epoch 13/50\n",
      "1000/1000 [==============================] - 294s 294ms/step - loss: 0.1049 - accuracy: 0.9643 - val_loss: 0.1120 - val_accuracy: 0.9500\n",
      "Epoch 14/50\n",
      "1000/1000 [==============================] - 296s 296ms/step - loss: 0.0897 - accuracy: 0.9683 - val_loss: 0.0428 - val_accuracy: 0.9900\n",
      "Epoch 15/50\n",
      "1000/1000 [==============================] - 297s 297ms/step - loss: 0.0872 - accuracy: 0.9701 - val_loss: 0.0595 - val_accuracy: 0.9900\n",
      "Epoch 16/50\n",
      "1000/1000 [==============================] - 298s 298ms/step - loss: 0.0810 - accuracy: 0.9725 - val_loss: 0.0736 - val_accuracy: 0.9700\n",
      "Epoch 17/50\n",
      "1000/1000 [==============================] - 300s 300ms/step - loss: 0.0742 - accuracy: 0.9751 - val_loss: 0.1424 - val_accuracy: 0.9600\n",
      "Epoch 18/50\n",
      "1000/1000 [==============================] - 301s 301ms/step - loss: 0.0758 - accuracy: 0.9732 - val_loss: 0.0749 - val_accuracy: 0.9700\n",
      "Epoch 19/50\n",
      "1000/1000 [==============================] - 301s 301ms/step - loss: 0.0766 - accuracy: 0.9747 - val_loss: 0.0656 - val_accuracy: 0.9800\n",
      "Epoch 20/50\n",
      "1000/1000 [==============================] - 296s 296ms/step - loss: 0.0693 - accuracy: 0.9773 - val_loss: 0.1310 - val_accuracy: 0.9700\n",
      "Epoch 21/50\n",
      "1000/1000 [==============================] - 289s 289ms/step - loss: 0.0636 - accuracy: 0.9789 - val_loss: 0.1220 - val_accuracy: 0.9800\n",
      "Epoch 22/50\n",
      "1000/1000 [==============================] - 296s 296ms/step - loss: 0.0636 - accuracy: 0.9795 - val_loss: 0.0167 - val_accuracy: 1.0000\n",
      "Epoch 23/50\n",
      "1000/1000 [==============================] - 296s 296ms/step - loss: 0.0594 - accuracy: 0.9793 - val_loss: 0.0154 - val_accuracy: 1.0000\n",
      "Epoch 24/50\n",
      "1000/1000 [==============================] - 298s 298ms/step - loss: 0.0582 - accuracy: 0.9813 - val_loss: 0.0335 - val_accuracy: 0.9900\n",
      "Epoch 25/50\n",
      "1000/1000 [==============================] - 293s 293ms/step - loss: 0.0644 - accuracy: 0.9791 - val_loss: 0.0460 - val_accuracy: 0.9800\n",
      "Epoch 26/50\n",
      "1000/1000 [==============================] - 293s 293ms/step - loss: 0.0566 - accuracy: 0.9803 - val_loss: 0.0352 - val_accuracy: 0.9800\n",
      "Epoch 27/50\n",
      "1000/1000 [==============================] - 292s 292ms/step - loss: 0.0550 - accuracy: 0.9822 - val_loss: 0.0339 - val_accuracy: 0.9900\n",
      "Epoch 28/50\n",
      "1000/1000 [==============================] - 294s 294ms/step - loss: 0.0546 - accuracy: 0.9815 - val_loss: 0.0372 - val_accuracy: 0.9900\n",
      "Epoch 29/50\n",
      "1000/1000 [==============================] - 293s 293ms/step - loss: 0.0535 - accuracy: 0.9814 - val_loss: 0.0435 - val_accuracy: 0.9800\n",
      "Epoch 30/50\n",
      "1000/1000 [==============================] - 290s 290ms/step - loss: 0.0564 - accuracy: 0.9819 - val_loss: 0.0446 - val_accuracy: 0.9800\n",
      "Epoch 31/50\n",
      "1000/1000 [==============================] - 292s 292ms/step - loss: 0.0557 - accuracy: 0.9816 - val_loss: 0.0292 - val_accuracy: 0.9900\n",
      "Epoch 32/50\n",
      "1000/1000 [==============================] - 294s 294ms/step - loss: 0.0511 - accuracy: 0.9833 - val_loss: 0.0347 - val_accuracy: 0.9900\n",
      "Epoch 33/50\n",
      "1000/1000 [==============================] - 295s 295ms/step - loss: 0.0460 - accuracy: 0.9852 - val_loss: 0.0416 - val_accuracy: 0.9800\n",
      "Epoch 34/50\n",
      "1000/1000 [==============================] - 317s 317ms/step - loss: 0.0519 - accuracy: 0.9831 - val_loss: 0.0403 - val_accuracy: 0.9800\n",
      "Epoch 35/50\n",
      "1000/1000 [==============================] - 305s 305ms/step - loss: 0.0510 - accuracy: 0.9830 - val_loss: 0.1271 - val_accuracy: 0.9900\n",
      "Epoch 36/50\n",
      "1000/1000 [==============================] - 304s 304ms/step - loss: 0.0503 - accuracy: 0.9846 - val_loss: 0.0207 - val_accuracy: 1.0000\n",
      "Epoch 37/50\n",
      "1000/1000 [==============================] - 302s 302ms/step - loss: 0.0454 - accuracy: 0.9851 - val_loss: 0.0705 - val_accuracy: 0.9800\n",
      "Epoch 38/50\n",
      "1000/1000 [==============================] - 309s 309ms/step - loss: 0.0480 - accuracy: 0.9847 - val_loss: 0.0985 - val_accuracy: 0.9800\n",
      "Epoch 39/50\n",
      "1000/1000 [==============================] - 317s 317ms/step - loss: 0.0474 - accuracy: 0.9852 - val_loss: 0.0270 - val_accuracy: 0.9800\n",
      "Epoch 40/50\n",
      "1000/1000 [==============================] - 308s 308ms/step - loss: 0.0450 - accuracy: 0.9851 - val_loss: 0.1443 - val_accuracy: 0.9700\n",
      "Epoch 41/50\n",
      "1000/1000 [==============================] - 304s 304ms/step - loss: 0.0464 - accuracy: 0.9858 - val_loss: 0.0288 - val_accuracy: 0.9900\n",
      "Epoch 42/50\n",
      "1000/1000 [==============================] - 302s 302ms/step - loss: 0.0427 - accuracy: 0.9866 - val_loss: 0.0365 - val_accuracy: 0.9900\n",
      "Epoch 43/50\n",
      "1000/1000 [==============================] - 300s 300ms/step - loss: 0.0427 - accuracy: 0.9861 - val_loss: 0.0475 - val_accuracy: 0.9900\n",
      "Epoch 44/50\n",
      "1000/1000 [==============================] - 303s 303ms/step - loss: 0.0430 - accuracy: 0.9855 - val_loss: 0.0213 - val_accuracy: 1.0000\n",
      "Epoch 45/50\n",
      "1000/1000 [==============================] - 302s 302ms/step - loss: 0.0449 - accuracy: 0.9858 - val_loss: 0.0101 - val_accuracy: 1.0000\n",
      "Epoch 46/50\n",
      "1000/1000 [==============================] - 301s 301ms/step - loss: 0.0422 - accuracy: 0.9869 - val_loss: 0.1855 - val_accuracy: 0.9800\n",
      "Epoch 47/50\n",
      "1000/1000 [==============================] - 302s 302ms/step - loss: 0.0445 - accuracy: 0.9858 - val_loss: 0.0112 - val_accuracy: 0.9900\n",
      "Epoch 48/50\n",
      "1000/1000 [==============================] - 303s 303ms/step - loss: 0.0398 - accuracy: 0.9876 - val_loss: 0.2366 - val_accuracy: 0.9800\n",
      "Epoch 49/50\n",
      "1000/1000 [==============================] - 305s 305ms/step - loss: 0.0403 - accuracy: 0.9866 - val_loss: 0.0338 - val_accuracy: 0.9800\n",
      "Epoch 50/50\n",
      "1000/1000 [==============================] - 305s 305ms/step - loss: 0.0466 - accuracy: 0.9860 - val_loss: 0.0614 - val_accuracy: 0.9700\n"
     ]
    }
   ],
   "source": [
    "#모델 학습 \n",
    "\n",
    "history = model.fit(\n",
    "        train_generator,\n",
    "        steps_per_epoch= 1000, # #of train data / batch_size = 5550/ 20\n",
    "        epochs=50, #전체 데이터셋을 50번 학습, epoch 값을 적절하게 변경시켜 overfitting, underfitting 방지 \n",
    "        validation_data=validation_generator, \n",
    "        validation_steps=5)"
   ]
  },
  {
   "cell_type": "code",
   "execution_count": 10,
   "metadata": {},
   "outputs": [
    {
     "name": "stdout",
     "output_type": "stream",
     "text": [
      "**모델 정확도**\n"
     ]
    },
    {
     "name": "stderr",
     "output_type": "stream",
     "text": [
      "<ipython-input-10-eacf6a06dec8>:4: UserWarning: `Model.evaluate_generator` is deprecated and will be removed in a future version. Please use `Model.evaluate`, which supports generators.\n",
      "  scores = model.evaluate_generator(validation_generator, steps = 5)\n"
     ]
    },
    {
     "name": "stdout",
     "output_type": "stream",
     "text": [
      "accuracy : 99.00%\n"
     ]
    }
   ],
   "source": [
    "#모델 정확도 평가\n",
    "\n",
    "print(\"**모델 정확도**\")\n",
    "scores = model.evaluate_generator(validation_generator, steps = 5)\n",
    "print('%s : %.2f%%' %(model.metrics_names[1], scores[1]*100))"
   ]
  },
  {
   "cell_type": "code",
   "execution_count": 11,
   "metadata": {},
   "outputs": [
    {
     "data": {
      "image/png": "[encoded data removed]",
      "text/plain": [
       "<Figure size 432x288 with 1 Axes>"
      ]
     },
     "metadata": {
      "needs_background": "light"
     },
     "output_type": "display_data"
    },
    {
     "data": {
      "image/png": "[encoded data removed]",
      "text/plain": [
       "<Figure size 432x288 with 1 Axes>"
      ]
     },
     "metadata": {
      "needs_background": "light"
     },
     "output_type": "display_data"
    }
   ],
   "source": [
    "#accuracy, validation 그래프 \n",
    "\n",
    "acc = history.history['accuracy']\n",
    "val_acc = history.history['val_accuracy']\n",
    "loss = history.history['loss']\n",
    "val_loss = history.history['val_loss']\n",
    "\n",
    "epochs = range(len(acc))\n",
    "\n",
    "plt.plot(epochs, acc, 'bo', label='Training accuracy')\n",
    "plt.plot(epochs, val_acc, 'b', label='Validation accuracy')\n",
    "plt.title('Training and validation accuracy')\n",
    "plt.legend()\n",
    "\n",
    "plt.figure()\n",
    "\n",
    "plt.plot(epochs, loss, 'go', label='Training Loss')\n",
    "plt.plot(epochs, val_loss, 'g', label='Validation Loss')\n",
    "plt.title('Training and validation loss')\n",
    "plt.legend()\n",
    "\n",
    "plt.show()"
   ]
  },
  {
   "cell_type": "code",
   "execution_count": 12,
   "metadata": {},
   "outputs": [],
   "source": [
    "#cnn 모델 저장 \n",
    "\n",
    "model.save(\"220118_binary_classification.h5\") "
   ]
  },
  {
   "cell_type": "code",
   "execution_count": 29,
   "metadata": {},
   "outputs": [],
   "source": [
    "#데이터 개수 부족할 때 데이터 각도나 위치를 변환 시켜 데이터 개수를 증가\n",
    "\n",
    "files = os.listdir('C:/Users/user/Desktop/211016_cnn모델학습/train_1sec/noleak')\n",
    "\n",
    "dir2  = os.path.join(base_dir, 'train_1sec','noleak')\n",
    "for filename in files:\n",
    "    if filename[-2:] !='py':\n",
    "                 \n",
    "        datagen = ImageDataGenerator(\n",
    "        #rotation_range=180,\n",
    "        rescale=1./255,\n",
    "        shear_range=0.8,\n",
    "        vertical_flip= True,\n",
    "        horizontal_flip=True,\n",
    "        fill_mode='nearest')\n",
    "            \n",
    "        img = load_img(dir2 + '/'+filename)  \n",
    "        #print(img)\n",
    "        z = img_to_array(img)\n",
    "        z = z.reshape((1,) + z.shape)\n",
    "\n",
    "    i = 0\n",
    "    for batch in datagen.flow(z, batch_size=1,save_to_dir='C:/Users/user/Desktop/211016_cnn모델학습/train_1sec/image', save_prefix='0.8noleak_', save_format='png'):\n",
    "        i += 1\n",
    "        if i > 1:\n",
    "            break  "
   ]
  },
  {
   "cell_type": "code",
   "execution_count": null,
   "metadata": {},
   "outputs": [],
   "source": [
    "#파일이름 실수했을 때 바꾸기용 \n",
    "\n",
    "# files = os.listdir('C:/Users/user/Desktop/wavdata/leaksound/images')\n",
    "  \n",
    "# for file in files:\n",
    "   \n",
    "#     if file[-2:] != 'py':\n",
    "#         print(file)\n",
    "#         name = file\n",
    "#         #print(name)\n",
    "#         new_name = file.replace('test', 'LEAK')\n",
    "#         name = os.path.join('C:/Users/user/Desktop/wavdata/leaksound/images', name)\n",
    "#         new_name = os.path.join('C:/Users/user/Desktop/wavdata/leaksound/images', new_name)\n",
    "#         os.rename(name, new_name)\n",
    "#         #print(new_name)"
   ]
  },
  {
   "cell_type": "code",
   "execution_count": null,
   "metadata": {},
   "outputs": [],
   "source": [
    "# datagen = ImageDataGenerator(\n",
    "#         #rotation_range=180,\n",
    "#         rescale=1./255,\n",
    "#         shear_range=1,\n",
    "#         vertical_flip= True,\n",
    "        \n",
    "#         horizontal_flip=True,\n",
    "#         fill_mode='nearest')\n",
    "\n",
    "# img = load_img(train_leak_dir +\"/L20200717_09_20_10_126_L.wav389.png\")  # PIL 이미지\n",
    "# x = img_to_array(img)  # (3, 150, 150) 크기의 NumPy 배열\n",
    "# x = x.reshape((1,) + x.shape)  # (1, 3, 150, 150) 크기의 NumPy 배열\n",
    "\n",
    "# # 아래 .flow() 함수는 임의 변환된 이미지를 배치 단위로 생성해서\n",
    "# # 지정된 preview/ 폴더에 저장합니다.\n",
    "# i = 0\n",
    "# for batch in datagen.flow(x, batch_size=1,\n",
    "#                           save_to_dir='C:/Users/user/Desktop/신규센서CNN/train/imgsave', save_prefix='LEAK0', save_format='png'):\n",
    "#     i += 1\n",
    "#     if i > 20:\n",
    "#         break  # 이미지 20장을 생성하고 마칩니다\n",
    "\n",
    "\n",
    "# # # 데이터 이미지 증강용 "
   ]
  }
 ],
 "metadata": {
  "interpreter": {
   "hash": "6d46af94c2bbce495f1e668725902fa517c90b1782bcfe2fce0dd9868df553d3"
  },
  "kernelspec": {
   "display_name": "Python 3.8.8 64-bit ('base': conda)",
   "name": "python3"
  },
  "language_info": {
   "codemirror_mode": {
    "name": "ipython",
    "version": 3
   },
   "file_extension": ".py",
   "mimetype": "text/x-python",
   "name": "python",
   "nbconvert_exporter": "python",
   "pygments_lexer": "ipython3",
   "version": "3.8.8"
  },
  "orig_nbformat": 3
 },
 "nbformat": 4,
 "nbformat_minor": 2
}
